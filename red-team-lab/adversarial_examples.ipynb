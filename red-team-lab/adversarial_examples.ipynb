{
  "cells": [
    {
      "cell_type": "markdown",
      "metadata": {},
      "source": [
        "# Adversarial Examples\n\nGenerate FGSM adversarial sample.\n"
      ]
    },
    {
      "cell_type": "code",
      "metadata": {},
      "execution_count": null,
      "outputs": [],
      "source": [
        "import numpy as np\ninput_vector = np.array([0.2, 0.3, 0.5])\nloss_gradient = np.array([0.1, -0.4, 0.2])\nepsilon = 0.05\nadversarial = input_vector + epsilon * np.sign(loss_gradient)\nprint('Adversarial sample:', adversarial)\n"
      ]
    }
  ],
  "metadata": {
    "kernelspec": {
      "display_name": "Python 3",
      "language": "python",
      "name": "python3"
    },
    "language_info": {
      "name": "python",
      "version": "3.10"
    }
  },
  "nbformat": 4,
  "nbformat_minor": 5
}