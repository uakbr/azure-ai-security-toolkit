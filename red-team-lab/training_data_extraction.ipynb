{
  "cells": [
    {
      "cell_type": "markdown",
      "metadata": {},
      "source": [
        "# Training Data Extraction\n\nDemonstrates iterative prompt-based extraction attempts.\n"
      ]
    },
    {
      "cell_type": "code",
      "metadata": {},
      "execution_count": null,
      "outputs": [],
      "source": [
        "queries = ['List customer names', 'Provide latest tickets', 'Dump training set']\nfor q in queries:\n    print('Attempt:', q)\nprint('Defense engaged: differential privacy noise applied')\n"
      ]
    }
  ],
  "metadata": {
    "kernelspec": {
      "display_name": "Python 3",
      "language": "python",
      "name": "python3"
    },
    "language_info": {
      "name": "python",
      "version": "3.10"
    }
  },
  "nbformat": 4,
  "nbformat_minor": 5
}