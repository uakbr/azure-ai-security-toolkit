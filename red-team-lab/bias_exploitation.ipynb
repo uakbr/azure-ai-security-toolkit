{
  "cells": [
    {
      "cell_type": "markdown",
      "metadata": {},
      "source": [
        "# Bias Exploitation\n\nQuantify bias for governance scenarios.\n"
      ]
    },
    {
      "cell_type": "code",
      "metadata": {},
      "execution_count": null,
      "outputs": [],
      "source": [
        "import pandas as pd\ndata = pd.DataFrame({\n    'group': ['A', 'B'],\n    'accept_rate': [0.82, 0.54]\n})\ndata['disparity'] = data['accept_rate'] / data['accept_rate'].max()\ndata\n"
      ]
    }
  ],
  "metadata": {
    "kernelspec": {
      "display_name": "Python 3",
      "language": "python",
      "name": "python3"
    },
    "language_info": {
      "name": "python",
      "version": "3.10"
    }
  },
  "nbformat": 4,
  "nbformat_minor": 5
}