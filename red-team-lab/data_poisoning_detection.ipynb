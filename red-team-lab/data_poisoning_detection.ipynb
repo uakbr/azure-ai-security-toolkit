{
  "cells": [
    {
      "cell_type": "markdown",
      "metadata": {},
      "source": [
        "# Poisoning Detection\n\nShow detection metrics over time.\n"
      ]
    },
    {
      "cell_type": "code",
      "metadata": {},
      "execution_count": null,
      "outputs": [],
      "source": [
        "import pandas as pd\nmetrics = pd.DataFrame({\n    'epoch': [1, 2, 3, 4],\n    'cosine_shift': [0.01, 0.02, 0.09, 0.15]\n})\nmetrics\n"
      ]
    }
  ],
  "metadata": {
    "kernelspec": {
      "display_name": "Python 3",
      "language": "python",
      "name": "python3"
    },
    "language_info": {
      "name": "python",
      "version": "3.10"
    }
  },
  "nbformat": 4,
  "nbformat_minor": 5
}